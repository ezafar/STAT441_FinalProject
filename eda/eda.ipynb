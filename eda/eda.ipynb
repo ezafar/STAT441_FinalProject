{
 "cells": [
  {
   "cell_type": "code",
   "execution_count": 33,
   "metadata": {},
   "outputs": [],
   "source": [
    "# Import EDA libraries\n",
    "import numpy as np\n",
    "import matplotlib.pyplot as plt\n",
    "import seaborn as sns\n",
    "import pandas as pd\n",
    "import os"
   ]
  },
  {
   "cell_type": "code",
   "execution_count": 34,
   "metadata": {},
   "outputs": [],
   "source": [
    "X_train = pd.read_csv('../data/X_train.csv', index_col=0)\n",
    "y_train = pd.read_csv('../data/y_train.csv', index_col=0)"
   ]
  },
  {
   "cell_type": "code",
   "execution_count": 35,
   "metadata": {},
   "outputs": [
    {
     "data": {
      "text/html": [
       "<div>\n",
       "<style scoped>\n",
       "    .dataframe tbody tr th:only-of-type {\n",
       "        vertical-align: middle;\n",
       "    }\n",
       "\n",
       "    .dataframe tbody tr th {\n",
       "        vertical-align: top;\n",
       "    }\n",
       "\n",
       "    .dataframe thead th {\n",
       "        text-align: right;\n",
       "    }\n",
       "</style>\n",
       "<table border=\"1\" class=\"dataframe\">\n",
       "  <thead>\n",
       "    <tr style=\"text-align: right;\">\n",
       "      <th></th>\n",
       "      <th>year</th>\n",
       "      <th>fw_start</th>\n",
       "      <th>fw_end</th>\n",
       "      <th>country</th>\n",
       "      <th>c_abrv</th>\n",
       "      <th>v1</th>\n",
       "      <th>v2</th>\n",
       "      <th>v3</th>\n",
       "      <th>v4</th>\n",
       "      <th>v5</th>\n",
       "      <th>...</th>\n",
       "      <th>v278b</th>\n",
       "      <th>v278c_r</th>\n",
       "      <th>v279a</th>\n",
       "      <th>v279b</th>\n",
       "      <th>v279c_r</th>\n",
       "      <th>v279d_r</th>\n",
       "      <th>v280</th>\n",
       "      <th>v281a</th>\n",
       "      <th>v281a_r</th>\n",
       "      <th>v282</th>\n",
       "    </tr>\n",
       "    <tr>\n",
       "      <th>id</th>\n",
       "      <th></th>\n",
       "      <th></th>\n",
       "      <th></th>\n",
       "      <th></th>\n",
       "      <th></th>\n",
       "      <th></th>\n",
       "      <th></th>\n",
       "      <th></th>\n",
       "      <th></th>\n",
       "      <th></th>\n",
       "      <th></th>\n",
       "      <th></th>\n",
       "      <th></th>\n",
       "      <th></th>\n",
       "      <th></th>\n",
       "      <th></th>\n",
       "      <th></th>\n",
       "      <th></th>\n",
       "      <th></th>\n",
       "      <th></th>\n",
       "      <th></th>\n",
       "    </tr>\n",
       "  </thead>\n",
       "  <tbody>\n",
       "    <tr>\n",
       "      <th>0</th>\n",
       "      <td>2020</td>\n",
       "      <td>202011</td>\n",
       "      <td>202011</td>\n",
       "      <td>804</td>\n",
       "      <td>UA</td>\n",
       "      <td>2</td>\n",
       "      <td>1</td>\n",
       "      <td>2</td>\n",
       "      <td>2</td>\n",
       "      <td>3</td>\n",
       "      <td>...</td>\n",
       "      <td>45</td>\n",
       "      <td>14.45</td>\n",
       "      <td>15</td>\n",
       "      <td>40</td>\n",
       "      <td>15.40</td>\n",
       "      <td>55</td>\n",
       "      <td>1</td>\n",
       "      <td>uk</td>\n",
       "      <td>475</td>\n",
       "      <td>32</td>\n",
       "    </tr>\n",
       "    <tr>\n",
       "      <th>1</th>\n",
       "      <td>2018</td>\n",
       "      <td>201809</td>\n",
       "      <td>201811</td>\n",
       "      <td>688</td>\n",
       "      <td>RS</td>\n",
       "      <td>2</td>\n",
       "      <td>1</td>\n",
       "      <td>2</td>\n",
       "      <td>2</td>\n",
       "      <td>3</td>\n",
       "      <td>...</td>\n",
       "      <td>12</td>\n",
       "      <td>17.12</td>\n",
       "      <td>18</td>\n",
       "      <td>25</td>\n",
       "      <td>18.25</td>\n",
       "      <td>73</td>\n",
       "      <td>2</td>\n",
       "      <td>sr</td>\n",
       "      <td>397</td>\n",
       "      <td>3</td>\n",
       "    </tr>\n",
       "    <tr>\n",
       "      <th>2</th>\n",
       "      <td>2017</td>\n",
       "      <td>201706</td>\n",
       "      <td>201803</td>\n",
       "      <td>352</td>\n",
       "      <td>IS</td>\n",
       "      <td>2</td>\n",
       "      <td>2</td>\n",
       "      <td>1</td>\n",
       "      <td>1</td>\n",
       "      <td>2</td>\n",
       "      <td>...</td>\n",
       "      <td>58</td>\n",
       "      <td>15.58</td>\n",
       "      <td>13</td>\n",
       "      <td>20</td>\n",
       "      <td>13.20</td>\n",
       "      <td>-5</td>\n",
       "      <td>2</td>\n",
       "      <td>is</td>\n",
       "      <td>72</td>\n",
       "      <td>87</td>\n",
       "    </tr>\n",
       "    <tr>\n",
       "      <th>3</th>\n",
       "      <td>2021</td>\n",
       "      <td>202105</td>\n",
       "      <td>202110</td>\n",
       "      <td>428</td>\n",
       "      <td>LV</td>\n",
       "      <td>1</td>\n",
       "      <td>2</td>\n",
       "      <td>1</td>\n",
       "      <td>1</td>\n",
       "      <td>2</td>\n",
       "      <td>...</td>\n",
       "      <td>42</td>\n",
       "      <td>8.42</td>\n",
       "      <td>8</td>\n",
       "      <td>51</td>\n",
       "      <td>8.51</td>\n",
       "      <td>9</td>\n",
       "      <td>1</td>\n",
       "      <td>lv</td>\n",
       "      <td>256</td>\n",
       "      <td>5157</td>\n",
       "    </tr>\n",
       "    <tr>\n",
       "      <th>4</th>\n",
       "      <td>2018</td>\n",
       "      <td>201801</td>\n",
       "      <td>201805</td>\n",
       "      <td>40</td>\n",
       "      <td>AT</td>\n",
       "      <td>1</td>\n",
       "      <td>1</td>\n",
       "      <td>2</td>\n",
       "      <td>2</td>\n",
       "      <td>3</td>\n",
       "      <td>...</td>\n",
       "      <td>51</td>\n",
       "      <td>12.51</td>\n",
       "      <td>13</td>\n",
       "      <td>53</td>\n",
       "      <td>13.53</td>\n",
       "      <td>62</td>\n",
       "      <td>1</td>\n",
       "      <td>de</td>\n",
       "      <td>158</td>\n",
       "      <td>64</td>\n",
       "    </tr>\n",
       "  </tbody>\n",
       "</table>\n",
       "<p>5 rows × 437 columns</p>\n",
       "</div>"
      ],
      "text/plain": [
       "    year  fw_start  fw_end  country c_abrv  v1  v2  v3  v4  v5  ...  v278b  \\\n",
       "id                                                              ...          \n",
       "0   2020    202011  202011      804     UA   2   1   2   2   3  ...     45   \n",
       "1   2018    201809  201811      688     RS   2   1   2   2   3  ...     12   \n",
       "2   2017    201706  201803      352     IS   2   2   1   1   2  ...     58   \n",
       "3   2021    202105  202110      428     LV   1   2   1   1   2  ...     42   \n",
       "4   2018    201801  201805       40     AT   1   1   2   2   3  ...     51   \n",
       "\n",
       "    v278c_r  v279a  v279b  v279c_r  v279d_r  v280  v281a  v281a_r  v282  \n",
       "id                                                                       \n",
       "0     14.45     15     40    15.40       55     1     uk      475    32  \n",
       "1     17.12     18     25    18.25       73     2     sr      397     3  \n",
       "2     15.58     13     20    13.20       -5     2     is       72    87  \n",
       "3      8.42      8     51     8.51        9     1     lv      256  5157  \n",
       "4     12.51     13     53    13.53       62     1     de      158    64  \n",
       "\n",
       "[5 rows x 437 columns]"
      ]
     },
     "execution_count": 35,
     "metadata": {},
     "output_type": "execute_result"
    }
   ],
   "source": [
    "X_train.head()"
   ]
  },
  {
   "cell_type": "code",
   "execution_count": 36,
   "metadata": {},
   "outputs": [
    {
     "data": {
      "text/html": [
       "<div>\n",
       "<style scoped>\n",
       "    .dataframe tbody tr th:only-of-type {\n",
       "        vertical-align: middle;\n",
       "    }\n",
       "\n",
       "    .dataframe tbody tr th {\n",
       "        vertical-align: top;\n",
       "    }\n",
       "\n",
       "    .dataframe thead th {\n",
       "        text-align: right;\n",
       "    }\n",
       "</style>\n",
       "<table border=\"1\" class=\"dataframe\">\n",
       "  <thead>\n",
       "    <tr style=\"text-align: right;\">\n",
       "      <th></th>\n",
       "      <th>label</th>\n",
       "    </tr>\n",
       "    <tr>\n",
       "      <th>id</th>\n",
       "      <th></th>\n",
       "    </tr>\n",
       "  </thead>\n",
       "  <tbody>\n",
       "    <tr>\n",
       "      <th>0</th>\n",
       "      <td>2</td>\n",
       "    </tr>\n",
       "    <tr>\n",
       "      <th>1</th>\n",
       "      <td>2</td>\n",
       "    </tr>\n",
       "    <tr>\n",
       "      <th>2</th>\n",
       "      <td>4</td>\n",
       "    </tr>\n",
       "    <tr>\n",
       "      <th>3</th>\n",
       "      <td>3</td>\n",
       "    </tr>\n",
       "    <tr>\n",
       "      <th>4</th>\n",
       "      <td>3</td>\n",
       "    </tr>\n",
       "  </tbody>\n",
       "</table>\n",
       "</div>"
      ],
      "text/plain": [
       "    label\n",
       "id       \n",
       "0       2\n",
       "1       2\n",
       "2       4\n",
       "3       3\n",
       "4       3"
      ]
     },
     "execution_count": 36,
     "metadata": {},
     "output_type": "execute_result"
    }
   ],
   "source": [
    "y_train.head()\n"
   ]
  },
  {
   "cell_type": "markdown",
   "metadata": {},
   "source": [
    "## Label Counts"
   ]
  },
  {
   "cell_type": "code",
   "execution_count": 37,
   "metadata": {},
   "outputs": [
    {
     "name": "stderr",
     "output_type": "stream",
     "text": [
      "C:\\Users\\adity\\AppData\\Local\\Temp\\ipykernel_23408\\2020618912.py:2: FutureWarning: pandas.value_counts is deprecated and will be removed in a future version. Use pd.Series(obj).value_counts() instead.\n",
      "  df = pd.value_counts(y_train.label).to_frame().reset_index()\n"
     ]
    },
    {
     "data": {
      "text/html": [
       "<div>\n",
       "<style scoped>\n",
       "    .dataframe tbody tr th:only-of-type {\n",
       "        vertical-align: middle;\n",
       "    }\n",
       "\n",
       "    .dataframe tbody tr th {\n",
       "        vertical-align: top;\n",
       "    }\n",
       "\n",
       "    .dataframe thead th {\n",
       "        text-align: right;\n",
       "    }\n",
       "</style>\n",
       "<table border=\"1\" class=\"dataframe\">\n",
       "  <thead>\n",
       "    <tr style=\"text-align: right;\">\n",
       "      <th></th>\n",
       "      <th>label</th>\n",
       "      <th>count</th>\n",
       "    </tr>\n",
       "  </thead>\n",
       "  <tbody>\n",
       "    <tr>\n",
       "      <th>0</th>\n",
       "      <td>2</td>\n",
       "      <td>14225</td>\n",
       "    </tr>\n",
       "    <tr>\n",
       "      <th>1</th>\n",
       "      <td>3</td>\n",
       "      <td>13476</td>\n",
       "    </tr>\n",
       "    <tr>\n",
       "      <th>2</th>\n",
       "      <td>1</td>\n",
       "      <td>10017</td>\n",
       "    </tr>\n",
       "    <tr>\n",
       "      <th>3</th>\n",
       "      <td>4</td>\n",
       "      <td>9614</td>\n",
       "    </tr>\n",
       "    <tr>\n",
       "      <th>4</th>\n",
       "      <td>-1</td>\n",
       "      <td>668</td>\n",
       "    </tr>\n",
       "  </tbody>\n",
       "</table>\n",
       "</div>"
      ],
      "text/plain": [
       "   label  count\n",
       "0      2  14225\n",
       "1      3  13476\n",
       "2      1  10017\n",
       "3      4   9614\n",
       "4     -1    668"
      ]
     },
     "execution_count": 37,
     "metadata": {},
     "output_type": "execute_result"
    }
   ],
   "source": [
    "# Get counts per label of the training data\n",
    "df = pd.value_counts(y_train.label).to_frame().reset_index()\n",
    "df\n",
    "# {'no answer':-1, 'very important':1, 'quite important':2, 'not important':3, 'not at all important':4}"
   ]
  },
  {
   "cell_type": "code",
   "execution_count": 38,
   "metadata": {},
   "outputs": [
    {
     "name": "stdout",
     "output_type": "stream",
     "text": [
      "<class 'pandas.core.frame.DataFrame'>\n",
      "Index: 48000 entries, 0 to 47999\n",
      "Columns: 437 entries, year to v282\n",
      "dtypes: float64(7), int64(422), object(8)\n",
      "memory usage: 160.4+ MB\n",
      "\n",
      "Object Types:\n",
      "Index(['c_abrv', 'v228b', 'v231b', 'v233b', 'v251b', 'v275b_N2', 'v275b_N1',\n",
      "       'v281a'],\n",
      "      dtype='object')\n",
      "\n",
      "Float Types:\n",
      "Index(['v228b_r', 'v231b_r', 'v233b_r', 'v251b_r', 'v261_ppp', 'v278c_r',\n",
      "       'v279c_r'],\n",
      "      dtype='object')\n"
     ]
    }
   ],
   "source": [
    "X_train.info()\n",
    "\n",
    "print(\"\\nObject Types:\")\n",
    "print(X_train.select_dtypes(include='object').columns)\n",
    "print(\"\\nFloat Types:\")\n",
    "print(X_train.select_dtypes(include='float64').columns)\n",
    "\n",
    "# X_train.describe() # Not helpful since we have so many columns"
   ]
  },
  {
   "cell_type": "code",
   "execution_count": 39,
   "metadata": {},
   "outputs": [
    {
     "name": "stdout",
     "output_type": "stream",
     "text": [
      "0 duplicated rows\n",
      "v228b_r    1\n",
      "v231b_r    3\n",
      "v233b_r    2\n",
      "v251b_r    4\n",
      "dtype: int64\n",
      "Total: 10 missing values\n"
     ]
    }
   ],
   "source": [
    "# Data Quality\n",
    "\n",
    "## Duplicates\n",
    "print(f\"{X_train.duplicated().sum()} duplicated rows\")\n",
    "\n",
    "## Missing Values\n",
    "missing_values = X_train.columns[X_train.isnull().any()]\n",
    "print(X_train[missing_values].isnull().sum())\n",
    "print(f\"Total: {X_train[missing_values].isnull().sum().sum()} missing values\")"
   ]
  },
  {
   "cell_type": "markdown",
   "metadata": {},
   "source": [
    "!! We might have to replace/impute these?"
   ]
  },
  {
   "cell_type": "markdown",
   "metadata": {},
   "source": [
    "# Visualization"
   ]
  },
  {
   "cell_type": "code",
   "execution_count": 40,
   "metadata": {},
   "outputs": [
    {
     "data": {
      "image/png": "[encoded data removed]",
      "text/plain": [
       "<Figure size 640x480 with 1 Axes>"
      ]
     },
     "metadata": {},
     "output_type": "display_data"
    }
   ],
   "source": [
    "# Plot barplot of c_abrv\n",
    "sns.countplot(y='c_abrv', data=X_train, order=X_train['c_abrv'].value_counts().index)\n",
    "plt.title('Country')\n",
    "plt.show()"
   ]
  },
  {
   "cell_type": "code",
   "execution_count": 43,
   "metadata": {},
   "outputs": [
    {
     "data": {
      "text/plain": [
       "48000"
      ]
     },
     "execution_count": 43,
     "metadata": {},
     "output_type": "execute_result"
    }
   ],
   "source": [
    "X_test = pd.read_csv('../data/y_train.csv', index_col=0)"
   ]
  }
 ],
 "metadata": {
  "kernelspec": {
   "display_name": "base",
   "language": "python",
   "name": "python3"
  },
  "language_info": {
   "codemirror_mode": {
    "name": "ipython",
    "version": 3
   },
   "file_extension": ".py",
   "mimetype": "text/x-python",
   "name": "python",
   "nbconvert_exporter": "python",
   "pygments_lexer": "ipython3",
   "version": "3.11.8"
  }
 },
 "nbformat": 4,
 "nbformat_minor": 2
}
